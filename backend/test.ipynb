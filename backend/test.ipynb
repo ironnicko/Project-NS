{
 "cells": [
  {
   "cell_type": "code",
   "execution_count": 1,
   "metadata": {},
   "outputs": [
    {
     "ename": "ModuleNotFoundError",
     "evalue": "No module named 'numpy'",
     "output_type": "error",
     "traceback": [
      "\u001b[0;31m---------------------------------------------------------------------------\u001b[0m",
      "\u001b[0;31mModuleNotFoundError\u001b[0m                       Traceback (most recent call last)",
      "Cell \u001b[0;32mIn[1], line 6\u001b[0m\n\u001b[1;32m      3\u001b[0m \u001b[38;5;28;01mimport\u001b[39;00m \u001b[38;5;21;01mrandom\u001b[39;00m\n\u001b[1;32m      4\u001b[0m \u001b[38;5;28;01mimport\u001b[39;00m \u001b[38;5;21;01mwarnings\u001b[39;00m\n\u001b[0;32m----> 6\u001b[0m \u001b[38;5;28;01mimport\u001b[39;00m \u001b[38;5;21;01mnumpy\u001b[39;00m \u001b[38;5;28;01mas\u001b[39;00m \u001b[38;5;21;01mnp\u001b[39;00m\n\u001b[1;32m      7\u001b[0m \u001b[38;5;28;01mimport\u001b[39;00m \u001b[38;5;21;01mpandas\u001b[39;00m \u001b[38;5;28;01mas\u001b[39;00m \u001b[38;5;21;01mpd\u001b[39;00m\n\u001b[1;32m      9\u001b[0m \u001b[38;5;28;01mimport\u001b[39;00m \u001b[38;5;21;01mmatplotlib\u001b[39;00m\u001b[38;5;21;01m.\u001b[39;00m\u001b[38;5;21;01mpyplot\u001b[39;00m \u001b[38;5;28;01mas\u001b[39;00m \u001b[38;5;21;01mplt\u001b[39;00m\n",
      "\u001b[0;31mModuleNotFoundError\u001b[0m: No module named 'numpy'"
     ]
    }
   ],
   "source": [
    "import os\n",
    "import sys\n",
    "import random\n",
    "import warnings\n",
    "\n",
    "import numpy as np\n",
    "import pandas as pd\n",
    "\n",
    "import matplotlib.pyplot as plt\n",
    "\n",
    "from tqdm import tqdm\n",
    "from itertools import chain\n",
    "from skimage.io import imread, imshow, imread_collection, concatenate_images\n",
    "from skimage.transform import resize\n",
    "from skimage.morphology import label\n",
    "\n",
    "import tensorflow as tf\n",
    "\n",
    "from keras.models import Model, load_model\n",
    "from keras.layers import Input\n",
    "from keras.layers.core import Dropout, Lambda\n",
    "from keras.layers.convolutional import Conv2D, Conv2DTranspose\n",
    "from keras.layers.pooling import MaxPooling2D\n",
    "from keras.layers.merge import concatenate\n",
    "from keras.callbacks import EarlyStopping, ModelCheckpoint\n",
    "from keras import backend as K\n",
    "from tensorflow.keras.utils import plot_model\n",
    "\n"
   ]
  },
  {
   "cell_type": "code",
   "execution_count": 2,
   "metadata": {},
   "outputs": [],
   "source": [
    "def jacard_coef(y_true,y_pred):\n",
    "    y_true_f = K.flatten(y_true)\n",
    "    y_pred_f = K.flatten(y_pred)\n",
    "    intersection = K.sum(y_true_f * y_pred_f)\n",
    "    return (intersection + 1.0)/(K.sum(y_true_f)+K.sum(y_pred_f) - intersection + 1.0)\n",
    "\n",
    "def jacard_coef_loss(y_true, y_pred):\n",
    "    return -jacard_coef(y_true, y_pred)"
   ]
  },
  {
   "cell_type": "code",
   "execution_count": 28,
   "metadata": {},
   "outputs": [],
   "source": [
    "import tensorflow as tf\n",
    "from skimage.io import imread\n",
    "from skimage.transform import resize\n",
    "import numpy as np\n",
    "import matplotlib.pyplot as plt\n",
    "\n",
    "# Load the model\n",
    "unetmodel = tf.keras.models.load_model(\"UNET_BASE_MAXEPOCHS.h5\", custom_objects={\n",
    "                   'jacard_coef': jacard_coef})\n",
    "\n",
    "attenresmodel = tf.keras.models.load_model(\"Attention_resunet.h5\", custom_objects={\n",
    "                   'jacard_coef': jacard_coef})\n",
    "\n",
    "# Define image path\n",
    "image_path = 'input_test.png'  # Update this to your image path\n",
    "\n",
    "# Load and preprocess the image\n",
    "image = imread(image_path)[:,:,:3]  # Ensure the image is in RGB\n",
    "image = resize(image, (128, 128), mode='constant', preserve_range=True)\n",
    "image_resized = np.expand_dims(image, axis=0)  # Expand dims to fit model input\n",
    "\n",
    "# Perform prediction\n",
    "Unetprediction = unetmodel.predict(image_resized)\n",
    "attenresprediction = attenresmodel.predict(image_resized)\n",
    "\n",
    "\n",
    "\n"
   ]
  },
  {
   "cell_type": "code",
   "execution_count": 35,
   "metadata": {},
   "outputs": [
    {
     "name": "stderr",
     "output_type": "stream",
     "text": [
      "/var/folders/mh/v3x6dz8534gcdj91_hh0bdph0000gn/T/ipykernel_90411/940315988.py:6: DeprecationWarning: `np.bool` is a deprecated alias for the builtin `bool`. To silence this warning, use `bool` by itself. Doing this will not modify any behavior and is safe. If you specifically wanted the numpy scalar type, use `np.bool_` here.\n",
      "Deprecated in NumPy 1.20; for more details and guidance: https://numpy.org/devdocs/release/1.20.0-notes.html#deprecations\n",
      "  mask = np.zeros((IMG_HEIGHT, IMG_WIDTH, 1), dtype=np.bool)\n"
     ]
    },
    {
     "data": {
      "image/png": "[encoded data removed]",
      "text/plain": [
       "<Figure size 1080x504 with 4 Axes>"
      ]
     },
     "metadata": {
      "needs_background": "light"
     },
     "output_type": "display_data"
    }
   ],
   "source": [
    "from script import connectedComponents\n",
    "BATCH_SIZE = 16 # the higher the better\n",
    "IMG_WIDTH = 128 # for faster computing on kaggle\n",
    "IMG_HEIGHT = 128 # for faster computing on kaggle\n",
    "IMG_CHANNELS = 3\n",
    "\n",
    "mask = np.zeros((IMG_HEIGHT, IMG_WIDTH, 1), dtype=np.bool)\n",
    "for mask_file in next(os.walk(\"masks\"))[2]:\n",
    "    if mask_file != \".DS_Store\":\n",
    "        mask_ = imread('masks/' + mask_file)\n",
    "        mask_ = np.expand_dims(resize(mask_, (IMG_HEIGHT, IMG_WIDTH), mode='constant', \n",
    "                                        preserve_range=True), axis=-1)\n",
    "        mask = np.maximum(mask, mask_)\n",
    "        \n",
    "# Set up matplotlib figures\n",
    "fig, axs = plt.subplots(1, 4, figsize=(15, 7))\n",
    "\n",
    "# Display the input image\n",
    "axs[0].imshow(image.astype(np.uint8))\n",
    "axs[0].title.set_text('Input Image')\n",
    "\n",
    "axs[1].imshow(np.squeeze(mask), cmap='gray')\n",
    "axs[1].title.set_text('Ground Truth')\n",
    "\n",
    "# Convert the prediction to binary mask if needed\n",
    "binary_prediction = (Unetprediction[0] > 0.9).astype(np.uint8)\n",
    "D2 = np.squeeze(binary_prediction)\n",
    "nuclei_count, adjusted_nuclei_count = connectedComponents(D2)\n",
    "l, r = min(nuclei_count, adjusted_nuclei_count), max(\n",
    "    nuclei_count, adjusted_nuclei_count)\n",
    "axs[2].imshow(D2, cmap='gray')\n",
    "axs[2].title.set_text(f'UNet Predicted Mask - Nuclei Count = {l} - {r}')\n",
    "\n",
    "binary_prediction = (attenresprediction[0] > 0.9).astype(np.uint8)\n",
    "D2 = np.squeeze(binary_prediction)\n",
    "nuclei_count, adjusted_nuclei_count = connectedComponents(D2)\n",
    "l, r = min(nuclei_count, adjusted_nuclei_count), max(\n",
    "    nuclei_count, adjusted_nuclei_count)\n",
    "axs[3].imshow(np.squeeze(binary_prediction), cmap='gray')\n",
    "axs[3].title.set_text(f'Attention Residual UNet Predicted Mask - Nuclei Count = {l} - {r}')\n",
    "\n",
    "# Remove axes for a cleaner look\n",
    "for ax in axs:\n",
    "    ax.axis('off')\n",
    "\n",
    "plt.show()"
   ]
  },
  {
   "cell_type": "code",
   "execution_count": null,
   "metadata": {},
   "outputs": [],
   "source": []
  }
 ],
 "metadata": {
  "kernelspec": {
   "display_name": ".venv",
   "language": "python",
   "name": "python3"
  },
  "language_info": {
   "codemirror_mode": {
    "name": "ipython",
    "version": 3
   },
   "file_extension": ".py",
   "mimetype": "text/x-python",
   "name": "python",
   "nbconvert_exporter": "python",
   "pygments_lexer": "ipython3",
   "version": "3.9.6"
  }
 },
 "nbformat": 4,
 "nbformat_minor": 2
}
